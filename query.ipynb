{
 "cells": [
  {
   "cell_type": "code",
   "execution_count": 1,
   "metadata": {
    "ExecuteTime": {
     "end_time": "2025-01-30T17:25:14.104288190Z",
     "start_time": "2025-01-30T17:25:13.901334890Z"
    }
   },
   "outputs": [],
   "source": [
    "import llama_cpp\n",
    "from rich.console import Console\n",
    "\n",
    "c = Console()"
   ]
  },
  {
   "cell_type": "code",
   "execution_count": 2,
   "metadata": {
    "ExecuteTime": {
     "end_time": "2025-01-30T17:25:22.224611509Z",
     "start_time": "2025-01-30T17:25:14.095608171Z"
    }
   },
   "outputs": [],
   "source": [
    "llm = llama_cpp.Llama(\n",
    "  model_path=\"/home/rpereira/Documents/Training/IntroToLangChain/models/lmstudio-community/DeepSeek-R1-Distill-Qwen-7B-GGUF/DeepSeek-R1-Distill-Qwen-7B-Q4_K_M.gguf\",\n",
    "  verbose=False,\n",
    "  n_ctx=131072, n_threads=6\n",
    ")"
   ]
  },
  {
   "cell_type": "code",
   "execution_count": 3,
   "metadata": {
    "ExecuteTime": {
     "end_time": "2025-01-30T17:25:30.407831874Z",
     "start_time": "2025-01-30T17:25:22.226758755Z"
    }
   },
   "outputs": [
    {
     "name": "stderr",
     "output_type": "stream",
     "text": [
      "/tmp/ipykernel_332177/2316195394.py:4: LangChainDeprecationWarning: The class `HuggingFaceEmbeddings` was deprecated in LangChain 0.2.2 and will be removed in 1.0. An updated version of the class exists in the :class:`~langchain-huggingface package and should be used instead. To use it run `pip install -U :class:`~langchain-huggingface` and import as `from :class:`~langchain_huggingface import HuggingFaceEmbeddings``.\n",
      "  embeddings = HuggingFaceEmbeddings()\n",
      "/tmp/ipykernel_332177/2316195394.py:4: LangChainDeprecationWarning: Default values for HuggingFaceEmbeddings.model_name were deprecated in LangChain 0.2.16 and will be removed in 0.4.0. Explicitly pass a model_name to the HuggingFaceEmbeddings constructor instead.\n",
      "  embeddings = HuggingFaceEmbeddings()\n"
     ]
    }
   ],
   "source": [
    "from langchain_milvus import Milvus\n",
    "from langchain_community.embeddings import HuggingFaceEmbeddings \n",
    "\n",
    "embeddings = HuggingFaceEmbeddings() \n",
    "\n",
    "from pymilvus import connections\n",
    "\n",
    "connections.connect(\"default\", host=\"localhost\", port=\"19530\")\n",
    "\n",
    "vector_store = Milvus(\n",
    "    embedding_function=embeddings,\n",
    "    collection_name=\"csw_legal\",\n",
    ")"
   ]
  },
  {
   "cell_type": "code",
   "execution_count": 4,
   "metadata": {
    "ExecuteTime": {
     "end_time": "2025-01-30T17:28:07.388461576Z",
     "start_time": "2025-01-30T17:25:30.410576906Z"
    }
   },
   "outputs": [
    {
     "data": {
      "text/plain": "\u001B[1m[\u001B[0m\n    \u001B[1;35mDocument\u001B[0m\u001B[1m(\u001B[0m\n        \u001B[33mmetadata\u001B[0m=\u001B[1m{\u001B[0m\n            \u001B[32m'pk'\u001B[0m: \u001B[1;36m455672705056790444\u001B[0m,\n            \u001B[32m'filetype'\u001B[0m: \u001B[32m'text/html'\u001B[0m,\n            \u001B[32m'url'\u001B[0m: \u001B[32m'https://criticalsoftware.com/en/legal'\u001B[0m,\n            \u001B[32m'category'\u001B[0m: \u001B[32m'NarrativeText'\u001B[0m\n        \u001B[1m}\u001B[0m,\n        \u001B[33mpage_content\u001B[0m=\u001B[32m'If you deal with us as a Corporate Subscriber, the following applies:'\u001B[0m\n    \u001B[1m)\u001B[0m,\n    \u001B[1;35mDocument\u001B[0m\u001B[1m(\u001B[0m\n        \u001B[33mmetadata\u001B[0m=\u001B[1m{\u001B[0m\n            \u001B[32m'pk'\u001B[0m: \u001B[1;36m455672705056790494\u001B[0m,\n            \u001B[32m'filetype'\u001B[0m: \u001B[32m'text/html'\u001B[0m,\n            \u001B[32m'url'\u001B[0m: \u001B[32m'https://criticalsoftware.com/en/legal'\u001B[0m,\n            \u001B[32m'category'\u001B[0m: \u001B[32m'NarrativeText'\u001B[0m\n        \u001B[1m}\u001B[0m,\n        \u001B[33mpage_content\u001B[0m=\u001B[32m'Nothing in these Terms of Use shall restrict or exclude any liability that Critical Software \u001B[0m\n\u001B[32mhas to any party that cannot be excluded by law.'\u001B[0m\n    \u001B[1m)\u001B[0m,\n    \u001B[1;35mDocument\u001B[0m\u001B[1m(\u001B[0m\n        \u001B[33mmetadata\u001B[0m=\u001B[1m{\u001B[0m\n            \u001B[32m'pk'\u001B[0m: \u001B[1;36m455672705056790525\u001B[0m,\n            \u001B[32m'filetype'\u001B[0m: \u001B[32m'text/html'\u001B[0m,\n            \u001B[32m'url'\u001B[0m: \u001B[32m'https://criticalsoftware.com/en/legal'\u001B[0m,\n            \u001B[32m'category'\u001B[0m: \u001B[32m'NarrativeText'\u001B[0m\n        \u001B[1m}\u001B[0m,\n        \u001B[33mpage_content\u001B[0m=\u001B[32m'We have a Code of Conduct in place signed off at director level, which applies to all staff \u001B[0m\n\u001B[32macross the Critical Group, to reflect and enforce our commitment to conduct all our business in an honest and \u001B[0m\n\u001B[32methical manner.'\u001B[0m\n    \u001B[1m)\u001B[0m,\n    \u001B[1;35mDocument\u001B[0m\u001B[1m(\u001B[0m\n        \u001B[33mmetadata\u001B[0m=\u001B[1m{\u001B[0m\n            \u001B[32m'pk'\u001B[0m: \u001B[1;36m455672705056790421\u001B[0m,\n            \u001B[32m'filetype'\u001B[0m: \u001B[32m'text/html'\u001B[0m,\n            \u001B[32m'url'\u001B[0m: \u001B[32m'https://criticalsoftware.com/en/legal'\u001B[0m,\n            \u001B[32m'category'\u001B[0m: \u001B[32m'ListItem'\u001B[0m\n        \u001B[1m}\u001B[0m,\n        \u001B[33mpage_content\u001B[0m=\u001B[32m'Corporate subscribers - deal with us in their capacity as employees or owners of businesses \u001B[0m\n\u001B[32mwhich have other employees.'\u001B[0m\n    \u001B[1m)\u001B[0m,\n    \u001B[1;35mDocument\u001B[0m\u001B[1m(\u001B[0m\n        \u001B[33mmetadata\u001B[0m=\u001B[1m{\u001B[0m\n            \u001B[32m'pk'\u001B[0m: \u001B[1;36m455672705056790491\u001B[0m,\n            \u001B[32m'filetype'\u001B[0m: \u001B[32m'text/html'\u001B[0m,\n            \u001B[32m'url'\u001B[0m: \u001B[32m'https://criticalsoftware.com/en/legal'\u001B[0m,\n            \u001B[32m'category'\u001B[0m: \u001B[32m'NarrativeText'\u001B[0m\n        \u001B[1m}\u001B[0m,\n        \u001B[33mpage_content\u001B[0m=\u001B[32m'All copyright, trademarks and all other intellectual property rights, including databases on \u001B[0m\n\u001B[32mthe website and its content, are the property of Critical Software or authorised for its use. It is prohibited to \u001B[0m\n\u001B[32mcopy, reproduce, re-edit, publish, broadcast or transmit any text, image, graphic, logotype, icon or software code \u001B[0m\n\u001B[32mthat appears on the website for any public or private purpose, without the prior written authorisation of Critical \u001B[0m\n\u001B[32mSoftware.'\u001B[0m\n    \u001B[1m)\u001B[0m\n\u001B[1m]\u001B[0m\n",
      "text/html": "<pre style=\"white-space:pre;overflow-x:auto;line-height:normal;font-family:Menlo,'DejaVu Sans Mono',consolas,'Courier New',monospace\"><span style=\"font-weight: bold\">[</span>\n    <span style=\"color: #800080; text-decoration-color: #800080; font-weight: bold\">Document</span><span style=\"font-weight: bold\">(</span>\n        <span style=\"color: #808000; text-decoration-color: #808000\">metadata</span>=<span style=\"font-weight: bold\">{</span>\n            <span style=\"color: #008000; text-decoration-color: #008000\">'pk'</span>: <span style=\"color: #008080; text-decoration-color: #008080; font-weight: bold\">455672705056790444</span>,\n            <span style=\"color: #008000; text-decoration-color: #008000\">'filetype'</span>: <span style=\"color: #008000; text-decoration-color: #008000\">'text/html'</span>,\n            <span style=\"color: #008000; text-decoration-color: #008000\">'url'</span>: <span style=\"color: #008000; text-decoration-color: #008000\">'https://criticalsoftware.com/en/legal'</span>,\n            <span style=\"color: #008000; text-decoration-color: #008000\">'category'</span>: <span style=\"color: #008000; text-decoration-color: #008000\">'NarrativeText'</span>\n        <span style=\"font-weight: bold\">}</span>,\n        <span style=\"color: #808000; text-decoration-color: #808000\">page_content</span>=<span style=\"color: #008000; text-decoration-color: #008000\">'If you deal with us as a Corporate Subscriber, the following applies:'</span>\n    <span style=\"font-weight: bold\">)</span>,\n    <span style=\"color: #800080; text-decoration-color: #800080; font-weight: bold\">Document</span><span style=\"font-weight: bold\">(</span>\n        <span style=\"color: #808000; text-decoration-color: #808000\">metadata</span>=<span style=\"font-weight: bold\">{</span>\n            <span style=\"color: #008000; text-decoration-color: #008000\">'pk'</span>: <span style=\"color: #008080; text-decoration-color: #008080; font-weight: bold\">455672705056790494</span>,\n            <span style=\"color: #008000; text-decoration-color: #008000\">'filetype'</span>: <span style=\"color: #008000; text-decoration-color: #008000\">'text/html'</span>,\n            <span style=\"color: #008000; text-decoration-color: #008000\">'url'</span>: <span style=\"color: #008000; text-decoration-color: #008000\">'https://criticalsoftware.com/en/legal'</span>,\n            <span style=\"color: #008000; text-decoration-color: #008000\">'category'</span>: <span style=\"color: #008000; text-decoration-color: #008000\">'NarrativeText'</span>\n        <span style=\"font-weight: bold\">}</span>,\n        <span style=\"color: #808000; text-decoration-color: #808000\">page_content</span>=<span style=\"color: #008000; text-decoration-color: #008000\">'Nothing in these Terms of Use shall restrict or exclude any liability that Critical Software </span>\n<span style=\"color: #008000; text-decoration-color: #008000\">has to any party that cannot be excluded by law.'</span>\n    <span style=\"font-weight: bold\">)</span>,\n    <span style=\"color: #800080; text-decoration-color: #800080; font-weight: bold\">Document</span><span style=\"font-weight: bold\">(</span>\n        <span style=\"color: #808000; text-decoration-color: #808000\">metadata</span>=<span style=\"font-weight: bold\">{</span>\n            <span style=\"color: #008000; text-decoration-color: #008000\">'pk'</span>: <span style=\"color: #008080; text-decoration-color: #008080; font-weight: bold\">455672705056790525</span>,\n            <span style=\"color: #008000; text-decoration-color: #008000\">'filetype'</span>: <span style=\"color: #008000; text-decoration-color: #008000\">'text/html'</span>,\n            <span style=\"color: #008000; text-decoration-color: #008000\">'url'</span>: <span style=\"color: #008000; text-decoration-color: #008000\">'https://criticalsoftware.com/en/legal'</span>,\n            <span style=\"color: #008000; text-decoration-color: #008000\">'category'</span>: <span style=\"color: #008000; text-decoration-color: #008000\">'NarrativeText'</span>\n        <span style=\"font-weight: bold\">}</span>,\n        <span style=\"color: #808000; text-decoration-color: #808000\">page_content</span>=<span style=\"color: #008000; text-decoration-color: #008000\">'We have a Code of Conduct in place signed off at director level, which applies to all staff </span>\n<span style=\"color: #008000; text-decoration-color: #008000\">across the Critical Group, to reflect and enforce our commitment to conduct all our business in an honest and </span>\n<span style=\"color: #008000; text-decoration-color: #008000\">ethical manner.'</span>\n    <span style=\"font-weight: bold\">)</span>,\n    <span style=\"color: #800080; text-decoration-color: #800080; font-weight: bold\">Document</span><span style=\"font-weight: bold\">(</span>\n        <span style=\"color: #808000; text-decoration-color: #808000\">metadata</span>=<span style=\"font-weight: bold\">{</span>\n            <span style=\"color: #008000; text-decoration-color: #008000\">'pk'</span>: <span style=\"color: #008080; text-decoration-color: #008080; font-weight: bold\">455672705056790421</span>,\n            <span style=\"color: #008000; text-decoration-color: #008000\">'filetype'</span>: <span style=\"color: #008000; text-decoration-color: #008000\">'text/html'</span>,\n            <span style=\"color: #008000; text-decoration-color: #008000\">'url'</span>: <span style=\"color: #008000; text-decoration-color: #008000\">'https://criticalsoftware.com/en/legal'</span>,\n            <span style=\"color: #008000; text-decoration-color: #008000\">'category'</span>: <span style=\"color: #008000; text-decoration-color: #008000\">'ListItem'</span>\n        <span style=\"font-weight: bold\">}</span>,\n        <span style=\"color: #808000; text-decoration-color: #808000\">page_content</span>=<span style=\"color: #008000; text-decoration-color: #008000\">'Corporate subscribers - deal with us in their capacity as employees or owners of businesses </span>\n<span style=\"color: #008000; text-decoration-color: #008000\">which have other employees.'</span>\n    <span style=\"font-weight: bold\">)</span>,\n    <span style=\"color: #800080; text-decoration-color: #800080; font-weight: bold\">Document</span><span style=\"font-weight: bold\">(</span>\n        <span style=\"color: #808000; text-decoration-color: #808000\">metadata</span>=<span style=\"font-weight: bold\">{</span>\n            <span style=\"color: #008000; text-decoration-color: #008000\">'pk'</span>: <span style=\"color: #008080; text-decoration-color: #008080; font-weight: bold\">455672705056790491</span>,\n            <span style=\"color: #008000; text-decoration-color: #008000\">'filetype'</span>: <span style=\"color: #008000; text-decoration-color: #008000\">'text/html'</span>,\n            <span style=\"color: #008000; text-decoration-color: #008000\">'url'</span>: <span style=\"color: #008000; text-decoration-color: #008000\">'https://criticalsoftware.com/en/legal'</span>,\n            <span style=\"color: #008000; text-decoration-color: #008000\">'category'</span>: <span style=\"color: #008000; text-decoration-color: #008000\">'NarrativeText'</span>\n        <span style=\"font-weight: bold\">}</span>,\n        <span style=\"color: #808000; text-decoration-color: #808000\">page_content</span>=<span style=\"color: #008000; text-decoration-color: #008000\">'All copyright, trademarks and all other intellectual property rights, including databases on </span>\n<span style=\"color: #008000; text-decoration-color: #008000\">the website and its content, are the property of Critical Software or authorised for its use. It is prohibited to </span>\n<span style=\"color: #008000; text-decoration-color: #008000\">copy, reproduce, re-edit, publish, broadcast or transmit any text, image, graphic, logotype, icon or software code </span>\n<span style=\"color: #008000; text-decoration-color: #008000\">that appears on the website for any public or private purpose, without the prior written authorisation of Critical </span>\n<span style=\"color: #008000; text-decoration-color: #008000\">Software.'</span>\n    <span style=\"font-weight: bold\">)</span>\n<span style=\"font-weight: bold\">]</span>\n</pre>\n"
     },
     "metadata": {},
     "output_type": "display_data"
    },
    {
     "data": {
      "text/plain": "\u001B[1m<\u001B[0m\u001B[1;95mthink\u001B[0m\u001B[39m>\u001B[0m\n\u001B[39mOkay, so I need to figure out the key legal terms and obligations outlined on Critical Software's legal page for a \u001B[0m\n\u001B[39mCorporate Subscriber. Let me start by reading through the provided context carefully.\u001B[0m\n\n\u001B[39mFirst, the context mentions that nothing in the Terms of Use restricts or excludes liability that Critical Software\u001B[0m\n\u001B[39mhas to any party that cannot be excluded by law. That seems important because it talks about liability limits, so I\u001B[0m\n\u001B[39mshould note that.\u001B[0m\n\n\u001B[39mNext, there's a Code of Conduct signed off at the director level, which applies to all staff across the Critical \u001B[0m\n\u001B[39mGroup. This code enforces honest and ethical business conduct, so that's another key point. It's about maintaining \u001B[0m\n\u001B[39mgood conduct within the company.\u001B[0m\n\n\u001B[39mThen, it says that as a Corporate Subscriber, we deal with Critical Software in our capacity as employees or owners\u001B[0m\n\u001B[39mof businesses that have other employees. This clarifies the role and responsibilities of the subscriber, so I \u001B[0m\n\u001B[39mshould include that.\u001B[0m\n\n\u001B[39mLastly, the context mentions copyright, trademarks, and intellectual property rights. It states that these are \u001B[0m\n\u001B[39mowned by Critical Software or authorized for use on the website. It also prohibits copying, reproducing, etc., \u001B[0m\n\u001B[39mwithout prior written permission. This is crucial for intellectual property rights and usage permissions.\u001B[0m\n\n\u001B[39mSo, putting it all together, the key points are liability, code of conduct, subscriber role, and intellectual \u001B[0m\n\u001B[39mproperty rights. I should make sure to present these clearly and concisely, using the exact wording from the \u001B[0m\n\u001B[39mcontext to ensure accuracy.\u001B[0m\n\u001B[39m<\u001B[0m\u001B[35m/\u001B[0m\u001B[95mthink\u001B[0m\u001B[1m>\u001B[0m\n\nWhen engaging with Critical Software as a Corporate Subscriber, the key legal terms and obligations include:\n\n\u001B[1;36m1\u001B[0m. **Liability Limitation**: Critical Software's terms do not restrict or exclude liability that cannot be excluded\nby law, which is an important consideration for understanding potential legal responsibilities.\n\n\u001B[1;36m2\u001B[0m. **Code of Conduct**: The company's Code of Conduct, signed by directors, applies to all staff across the \nCritical Group, emphasizing honest and ethical business practices.\n\n\u001B[1;36m3\u001B[0m. **Subscriber Role**: As a Corporate Subscriber, you engage with Critical Software in your capacity as an \nemployee or owner of a business with other employees, clarifying your role and responsibilities.\n\n\u001B[1;36m4\u001B[0m. **Intellectual Property Rights**: Critical Software holds copyright, trademarks, and intellectual property \nrights, including website content. Proper use and reproduction of this material require prior written \nauthorization.\n\nThese points outline the essential legal obligations and terms to be aware of when interacting with Critical \nSoftware as a Corporate Subscriber.\n",
      "text/html": "<pre style=\"white-space:pre;overflow-x:auto;line-height:normal;font-family:Menlo,'DejaVu Sans Mono',consolas,'Courier New',monospace\"><span style=\"font-weight: bold\">&lt;</span><span style=\"color: #ff00ff; text-decoration-color: #ff00ff; font-weight: bold\">think</span><span style=\"color: #000000; text-decoration-color: #000000\">&gt;</span>\n<span style=\"color: #000000; text-decoration-color: #000000\">Okay, so I need to figure out the key legal terms and obligations outlined on Critical Software's legal page for a </span>\n<span style=\"color: #000000; text-decoration-color: #000000\">Corporate Subscriber. Let me start by reading through the provided context carefully.</span>\n\n<span style=\"color: #000000; text-decoration-color: #000000\">First, the context mentions that nothing in the Terms of Use restricts or excludes liability that Critical Software</span>\n<span style=\"color: #000000; text-decoration-color: #000000\">has to any party that cannot be excluded by law. That seems important because it talks about liability limits, so I</span>\n<span style=\"color: #000000; text-decoration-color: #000000\">should note that.</span>\n\n<span style=\"color: #000000; text-decoration-color: #000000\">Next, there's a Code of Conduct signed off at the director level, which applies to all staff across the Critical </span>\n<span style=\"color: #000000; text-decoration-color: #000000\">Group. This code enforces honest and ethical business conduct, so that's another key point. It's about maintaining </span>\n<span style=\"color: #000000; text-decoration-color: #000000\">good conduct within the company.</span>\n\n<span style=\"color: #000000; text-decoration-color: #000000\">Then, it says that as a Corporate Subscriber, we deal with Critical Software in our capacity as employees or owners</span>\n<span style=\"color: #000000; text-decoration-color: #000000\">of businesses that have other employees. This clarifies the role and responsibilities of the subscriber, so I </span>\n<span style=\"color: #000000; text-decoration-color: #000000\">should include that.</span>\n\n<span style=\"color: #000000; text-decoration-color: #000000\">Lastly, the context mentions copyright, trademarks, and intellectual property rights. It states that these are </span>\n<span style=\"color: #000000; text-decoration-color: #000000\">owned by Critical Software or authorized for use on the website. It also prohibits copying, reproducing, etc., </span>\n<span style=\"color: #000000; text-decoration-color: #000000\">without prior written permission. This is crucial for intellectual property rights and usage permissions.</span>\n\n<span style=\"color: #000000; text-decoration-color: #000000\">So, putting it all together, the key points are liability, code of conduct, subscriber role, and intellectual </span>\n<span style=\"color: #000000; text-decoration-color: #000000\">property rights. I should make sure to present these clearly and concisely, using the exact wording from the </span>\n<span style=\"color: #000000; text-decoration-color: #000000\">context to ensure accuracy.</span>\n<span style=\"color: #000000; text-decoration-color: #000000\">&lt;</span><span style=\"color: #800080; text-decoration-color: #800080\">/</span><span style=\"color: #ff00ff; text-decoration-color: #ff00ff\">think</span><span style=\"font-weight: bold\">&gt;</span>\n\nWhen engaging with Critical Software as a Corporate Subscriber, the key legal terms and obligations include:\n\n<span style=\"color: #008080; text-decoration-color: #008080; font-weight: bold\">1</span>. **Liability Limitation**: Critical Software's terms do not restrict or exclude liability that cannot be excluded\nby law, which is an important consideration for understanding potential legal responsibilities.\n\n<span style=\"color: #008080; text-decoration-color: #008080; font-weight: bold\">2</span>. **Code of Conduct**: The company's Code of Conduct, signed by directors, applies to all staff across the \nCritical Group, emphasizing honest and ethical business practices.\n\n<span style=\"color: #008080; text-decoration-color: #008080; font-weight: bold\">3</span>. **Subscriber Role**: As a Corporate Subscriber, you engage with Critical Software in your capacity as an \nemployee or owner of a business with other employees, clarifying your role and responsibilities.\n\n<span style=\"color: #008080; text-decoration-color: #008080; font-weight: bold\">4</span>. **Intellectual Property Rights**: Critical Software holds copyright, trademarks, and intellectual property \nrights, including website content. Proper use and reproduction of this material require prior written \nauthorization.\n\nThese points outline the essential legal obligations and terms to be aware of when interacting with Critical \nSoftware as a Corporate Subscriber.\n</pre>\n"
     },
     "metadata": {},
     "output_type": "display_data"
    }
   ],
   "source": [
    "search_query = \"What are the key legal terms and obligations outlined on Critical Software's legal page that I should be aware of when engaging with CSW as a Corporate Subscriber?\"\n",
    "\n",
    "results = vector_store.similarity_search(\n",
    "    search_query,\n",
    "    k=5\n",
    ")\n",
    "\n",
    "c.print(results)\n",
    "\n",
    "template = \"\"\"You are a helpful assistant who answers questions using only the provided context.\n",
    "If you don't know the answer, simply state that you don't know.\n",
    "\n",
    "{context}\n",
    "\n",
    "Question: {question}\"\"\"\n",
    "\n",
    "stream = llm.create_chat_completion(\n",
    "    messages = [\n",
    "      {\"role\": \"user\", \"content\": template.format(\n",
    "        context = \"\\n\\n\".join([row.page_content for row in results]),\n",
    "        question = search_query      \n",
    "      )}\n",
    "    ],\n",
    "    stream=False\n",
    ")\n",
    "\n",
    "c.print(stream['choices'][0]['message']['content'])\n",
    "\n",
    "#for chunk in stream:\n",
    "#  c.print(chunk['choices'][0]['delta'].get('content', ''), end='')"
   ]
  },
  {
   "cell_type": "code",
   "execution_count": 4,
   "outputs": [],
   "source": [],
   "metadata": {
    "collapsed": false,
    "ExecuteTime": {
     "end_time": "2025-01-30T17:28:07.394677401Z",
     "start_time": "2025-01-30T17:28:07.387396585Z"
    }
   }
  }
 ],
 "metadata": {
  "kernelspec": {
   "display_name": "ds_llamacpp",
   "language": "python",
   "name": "python3"
  },
  "language_info": {
   "codemirror_mode": {
    "name": "ipython",
    "version": 3
   },
   "file_extension": ".py",
   "mimetype": "text/x-python",
   "name": "python",
   "nbconvert_exporter": "python",
   "pygments_lexer": "ipython3",
   "version": "3.9.21"
  }
 },
 "nbformat": 4,
 "nbformat_minor": 2
}
