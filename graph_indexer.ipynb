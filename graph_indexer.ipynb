{
 "cells": [
  {
   "cell_type": "code",
   "execution_count": 2,
   "id": "initial_id",
   "metadata": {
    "collapsed": true,
    "ExecuteTime": {
     "end_time": "2025-01-30T17:38:46.335823847Z",
     "start_time": "2025-01-30T17:38:44.646320308Z"
    }
   },
   "outputs": [],
   "source": [
    "from langchain_neo4j import GraphCypherQAChain, Neo4jGraph"
   ]
  },
  {
   "cell_type": "code",
   "execution_count": 9,
   "outputs": [],
   "source": [
    "graph = Neo4jGraph(url=\"neo4j://localhost:7687\", username=\"neo4j\", password=\"neo4jneo4j\", database=\"neo4j\")"
   ],
   "metadata": {
    "collapsed": false,
    "ExecuteTime": {
     "end_time": "2025-01-30T17:45:05.534152905Z",
     "start_time": "2025-01-30T17:45:05.073438662Z"
    }
   },
   "id": "f8880c65dcaa6200"
  },
  {
   "cell_type": "code",
   "execution_count": 10,
   "outputs": [],
   "source": [
    "import llama_cpp\n",
    "from rich.console import Console\n",
    "\n",
    "c = Console()"
   ],
   "metadata": {
    "collapsed": false,
    "ExecuteTime": {
     "end_time": "2025-01-30T17:49:54.180173611Z",
     "start_time": "2025-01-30T17:49:54.130047257Z"
    }
   },
   "id": "7870c236737e0333"
  },
  {
   "cell_type": "code",
   "execution_count": 11,
   "outputs": [],
   "source": [
    "llm = llama_cpp.Llama(\n",
    "  model_path=\"/home/rpereira/Documents/Training/IntroToLangChain/models/lmstudio-community/DeepSeek-R1-Distill-Qwen-7B-GGUF/DeepSeek-R1-Distill-Qwen-7B-Q4_K_M.gguf\",\n",
    "  verbose=False,\n",
    "  n_ctx=131072, n_threads=6\n",
    ")"
   ],
   "metadata": {
    "collapsed": false,
    "ExecuteTime": {
     "end_time": "2025-01-30T17:50:02.574022099Z",
     "start_time": "2025-01-30T17:49:54.830110541Z"
    }
   },
   "id": "8e86a71af8bd1cce"
  },
  {
   "cell_type": "code",
   "execution_count": 13,
   "outputs": [
    {
     "name": "stdout",
     "output_type": "stream",
     "text": [
      "<think>\n",
      "Okay, so I need to help the user generate a Cypher query to insert some data into their database based on the provided context and schema. Let me break this down step by step.\n",
      "\n",
      "First, I'll look at the schema they provided. There are three types of nodes: Person, Company, and Project. The relationships are WORKS_FOR, ASSIGNED_TO, and OWNS. \n",
      "\n",
      "The context given is to insert a new company called 'Critical Software' in the technology industry. Then, create a person named 'Alice Johnson' who is a Software Engineer at that company. Finally, assign Alice to a project called 'AI Research Initiative' with a start and end date.\n",
      "\n",
      "I need to make sure each part is correctly mapped to the schema. \n",
      "\n",
      "Starting with the company: I'll use the Company node with id as 'critical-software' and name 'Critical Software', industry 'technology'. \n",
      "\n",
      "Next, the person: Alice Johnson, role 'Software Engineer', and assign her to 'Critical Software' using the WORKS_FOR relationship.\n",
      "\n",
      "Then, the project: name 'AI Research Initiative', with the specified dates. Alice is assigned to this project using the ASSIGNED_TO relationship.\n",
      "\n",
      "I should structure the Cypher query to create each node and then establish the relationships between them. I'll use the create statements for each node and then the colon notation for the relationships.\n",
      "\n",
      "I need to ensure that the syntax is correct, using curly braces for node properties and proper relationship paths. Also, I should check the date format to make sure it's correct, using yyyy-mm-dd.\n",
      "\n",
      "Putting it all together, the query should first create the company, then the person, then the project, and finally link them all with the appropriate relationships.\n",
      "\n",
      "I think that's all. I don't see any missing information, so the query should work as intended.\n",
      "</think>\n",
      "\n",
      "```cypher\n",
      "CREATE (:Company {id: 'critical-software', name: 'Critical Software', industry: 'technology'})\n",
      "CREATE (:Person {id: 'alice-johnson', name: 'Alice Johnson', role: 'Software Engineer'})\n",
      "CREATE (:Project {id: 'ai-research-initiative', title: 'AI Research Initiative', start_date: '2024-02-01', end_date: '2025-01-31'})\n",
      "aliceworksForCriticalSoftware Alice Johnson\n",
      "Alice Johnson assignedTo AI Research Initiative\n",
      "```\n"
     ]
    }
   ],
   "source": [
    "template = \"\"\"You are a helpful assistant that generates Cypher queries to insert entities and relationships based on the provided context and schema.\n",
    "If you are unsure how to structure the query, state that the information is insufficient.\n",
    "Generate only, and just only the cypher query to insert the data directly into the database.\n",
    "\n",
    "Schema:\n",
    "{schema}\n",
    "\n",
    "Generate a Cypher query to insert data based on the following context:\n",
    "\n",
    "{context}\"\"\"\n",
    "\n",
    "dummy_schema = \"\"\"\n",
    "Nodes:\n",
    "- (:Person {id: ID, name: STRING, role: STRING})\n",
    "- (:Company {id: ID, name: STRING, industry: STRING})\n",
    "- (:Project {id: ID, title: STRING, start_date: DATE, end_date: DATE})\n",
    "\n",
    "Relationships:\n",
    "- (:Person)-[:WORKS_FOR]->(:Company)\n",
    "- (:Person)-[:ASSIGNED_TO]->(:Project)\n",
    "- (:Company)-[:OWNS]->(:Project)\n",
    "\"\"\"\n",
    "\n",
    "context = \"\"\"\n",
    "Insert a new company called 'Critical Software' that operates in the technology industry.\n",
    "Create a new person named 'Alice Johnson', who is a 'Software Engineer' at 'Critical Software'.\n",
    "Assign Alice to a new project called 'AI Research Initiative' starting on '2024-02-01' and ending on '2025-01-31'.\n",
    "\"\"\"\n",
    "\n",
    "cypher_query = llm.create_chat_completion(\n",
    "    messages=[\n",
    "        {\"role\": \"user\", \"content\": template.format(\n",
    "            schema=dummy_schema,\n",
    "            context=context\n",
    "        )}\n",
    "    ],\n",
    "    stream=False\n",
    ")\n",
    "\n",
    "print(cypher_query[\"choices\"][0][\"message\"][\"content\"])"
   ],
   "metadata": {
    "collapsed": false,
    "ExecuteTime": {
     "end_time": "2025-01-30T18:14:39.083970175Z",
     "start_time": "2025-01-30T18:11:44.205911674Z"
    }
   },
   "id": "86c32b4e869d9110"
  }
 ],
 "metadata": {
  "kernelspec": {
   "display_name": "Python 3",
   "language": "python",
   "name": "python3"
  },
  "language_info": {
   "codemirror_mode": {
    "name": "ipython",
    "version": 2
   },
   "file_extension": ".py",
   "mimetype": "text/x-python",
   "name": "python",
   "nbconvert_exporter": "python",
   "pygments_lexer": "ipython2",
   "version": "2.7.6"
  }
 },
 "nbformat": 4,
 "nbformat_minor": 5
}
