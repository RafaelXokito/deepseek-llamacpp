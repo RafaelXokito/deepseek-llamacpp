{
 "cells": [
  {
   "cell_type": "code",
   "execution_count": 1,
   "metadata": {
    "ExecuteTime": {
     "end_time": "2025-01-30T17:24:31.200378108Z",
     "start_time": "2025-01-30T17:24:26.142535205Z"
    }
   },
   "outputs": [],
   "source": [
    "from langchain_community.document_loaders import UnstructuredURLLoader\n",
    "\n",
    "loader = UnstructuredURLLoader(\n",
    "    urls=[\"https://criticalsoftware.com/en/legal\"], mode=\"elements\", strategy=\"fast\",\n",
    ")\n",
    "\n",
    "docs = loader.load()"
   ]
  },
  {
   "cell_type": "code",
   "execution_count": 2,
   "metadata": {
    "ExecuteTime": {
     "end_time": "2025-01-30T17:24:31.209560480Z",
     "start_time": "2025-01-30T17:24:31.204299201Z"
    }
   },
   "outputs": [
    {
     "name": "stdout",
     "output_type": "stream",
     "text": [
      "page_content='In most circumstances, your data will only be processed within the UK or EEA. If for any reason we need to have your data processed elsewhere we will inform you of that, any privacy risks involved and what we have done to minimise those risks. In some circumstances, we would also seek your consent for that.' metadata={'languages': ['eng'], 'filetype': 'text/html', 'parent_id': 'ccd6d67eab9f76cd1f66c082d39e1861', 'url': 'https://criticalsoftware.com/en/legal', 'category': 'NarrativeText'}\n"
     ]
    }
   ],
   "source": [
    "print(docs[10])"
   ]
  },
  {
   "cell_type": "code",
   "execution_count": 3,
   "metadata": {
    "ExecuteTime": {
     "end_time": "2025-01-30T17:24:39.996662902Z",
     "start_time": "2025-01-30T17:24:31.211171383Z"
    }
   },
   "outputs": [
    {
     "name": "stderr",
     "output_type": "stream",
     "text": [
      "/tmp/ipykernel_328698/2043985166.py:4: LangChainDeprecationWarning: The class `HuggingFaceEmbeddings` was deprecated in LangChain 0.2.2 and will be removed in 1.0. An updated version of the class exists in the :class:`~langchain-huggingface package and should be used instead. To use it run `pip install -U :class:`~langchain-huggingface` and import as `from :class:`~langchain_huggingface import HuggingFaceEmbeddings``.\n",
      "  embeddings = HuggingFaceEmbeddings()\n",
      "/tmp/ipykernel_328698/2043985166.py:4: LangChainDeprecationWarning: Default values for HuggingFaceEmbeddings.model_name were deprecated in LangChain 0.2.16 and will be removed in 0.4.0. Explicitly pass a model_name to the HuggingFaceEmbeddings constructor instead.\n",
      "  embeddings = HuggingFaceEmbeddings()\n",
      "/tmp/ipykernel_328698/2043985166.py:6: LangChainDeprecationWarning: Default values for HuggingFaceEmbeddings.model_name were deprecated in LangChain 0.2.16 and will be removed in 0.4.0. Explicitly pass a model_name to the HuggingFaceEmbeddings constructor instead.\n",
      "  text_splitter = SemanticChunker(HuggingFaceEmbeddings())\n"
     ]
    }
   ],
   "source": [
    "from langchain_experimental.text_splitter import SemanticChunker  \n",
    "from langchain_community.embeddings import HuggingFaceEmbeddings \n",
    "\n",
    "embeddings = HuggingFaceEmbeddings() \n",
    "\n",
    "text_splitter = SemanticChunker(HuggingFaceEmbeddings())  \n",
    "documents = text_splitter.split_documents(docs)"
   ]
  },
  {
   "cell_type": "code",
   "execution_count": 4,
   "metadata": {
    "ExecuteTime": {
     "end_time": "2025-01-30T17:24:40.002370690Z",
     "start_time": "2025-01-30T17:24:40.000184438Z"
    }
   },
   "outputs": [],
   "source": [
    "for doc in documents:\n",
    "    doc.metadata.pop(\"languages\", None)\n",
    "    doc.metadata.pop(\"category_depth\", None)"
   ]
  },
  {
   "cell_type": "code",
   "execution_count": 5,
   "metadata": {
    "ExecuteTime": {
     "end_time": "2025-01-30T17:24:40.042888800Z",
     "start_time": "2025-01-30T17:24:40.002877063Z"
    }
   },
   "outputs": [
    {
     "data": {
      "text/plain": "Document(metadata={'filetype': 'text/html', 'url': 'https://criticalsoftware.com/en/legal', 'category': 'Title'}, page_content='Legal Information')"
     },
     "execution_count": 5,
     "metadata": {},
     "output_type": "execute_result"
    }
   ],
   "source": [
    "documents[0]"
   ]
  },
  {
   "cell_type": "code",
   "execution_count": 7,
   "metadata": {
    "ExecuteTime": {
     "end_time": "2025-01-30T17:44:38.336073404Z",
     "start_time": "2025-01-30T17:44:36.774542994Z"
    }
   },
   "outputs": [],
   "source": [
    "from langchain_milvus import Milvus\n",
    "from pymilvus import connections\n",
    "\n",
    "connections.connect(\"default\", host=\"localhost\", port=\"19530\")\n",
    "\n",
    "vector_store = Milvus.from_documents(documents,\n",
    "                                     embeddings,\n",
    "                                     collection_name=\"csw_legal\",\n",
    "                                     auto_id=True)"
   ]
  },
  {
   "cell_type": "code",
   "execution_count": 6,
   "metadata": {
    "ExecuteTime": {
     "end_time": "2025-01-30T17:24:45.149799290Z",
     "start_time": "2025-01-30T17:24:45.144305648Z"
    }
   },
   "outputs": [],
   "source": []
  }
 ],
 "metadata": {
  "kernelspec": {
   "display_name": "ds_llamacpp",
   "language": "python",
   "name": "python3"
  },
  "language_info": {
   "codemirror_mode": {
    "name": "ipython",
    "version": 3
   },
   "file_extension": ".py",
   "mimetype": "text/x-python",
   "name": "python",
   "nbconvert_exporter": "python",
   "pygments_lexer": "ipython3",
   "version": "3.9.21"
  }
 },
 "nbformat": 4,
 "nbformat_minor": 2
}
